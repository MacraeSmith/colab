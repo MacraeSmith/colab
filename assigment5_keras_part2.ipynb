{
  "cells": [
    {
      "cell_type": "markdown",
      "metadata": {
        "id": "view-in-github",
        "colab_type": "text"
      },
      "source": [
        "<a href=\"https://colab.research.google.com/github/MacraeSmith/helloAI/blob/main/assigment5_keras_part2.ipynb\" target=\"_parent\"><img src=\"https://colab.research.google.com/assets/colab-badge.svg\" alt=\"Open In Colab\"/></a>"
      ]
    },
    {
      "cell_type": "code",
      "execution_count": 2,
      "metadata": {
        "colab": {
          "base_uri": "https://localhost:8080/"
        },
        "id": "5qfZQ0fhPt-1",
        "outputId": "1e6bf6e5-8491-459c-e63f-0b59e0100b06"
      },
      "outputs": [
        {
          "output_type": "stream",
          "name": "stdout",
          "text": [
            "Downloading data from https://storage.googleapis.com/tensorflow/tf-keras-datasets/mnist.npz\n",
            "11490434/11490434 [==============================] - 0s 0us/step\n",
            "before converting... 5\n",
            "7\n",
            "after converting y... [0. 0. 0. 0. 0. 0. 0. 1. 0. 0.]\n",
            "6000/6000 [==============================] - 26s 4ms/step - loss: 0.3246 - accuracy: 0.9129 - val_loss: 0.1847 - val_accuracy: 0.9459\n",
            "Test loss: 0.18474388122558594\n",
            "Test accuracy: 0.945900022983551\n"
          ]
        }
      ],
      "source": [
        "# based on https://www.sitepoint.com/keras-digit-recognition-tutorial/\n",
        "\n",
        "import tensorflow as tf\n",
        "from tensorflow import keras\n",
        "from tensorflow.keras import layers\n",
        "import keras.datasets.mnist as kdm\n",
        "from keras.utils import to_categorical\n",
        "\n",
        "# tf.config.set_visible_devices([], 'GPU') # if you have an m1/m2 mac, uncomment this line to run wayyyy faster if you have local install of jupyter. leave commented if you are running on google colab \n",
        "\n",
        "(x_train, y_train), (x_test, y_test) = kdm.load_data()\n",
        "assert x_train.shape == (60000, 28, 28)\n",
        "assert x_test.shape == (10000, 28, 28)\n",
        "assert y_train.shape == (60000,)\n",
        "assert y_test.shape == (10000,)\n",
        "\n",
        "print(\"before converting...\", y_train[0])\n",
        "\n",
        "# reshape\n",
        "img_rows, img_cols = 28, 28\n",
        "# normalize inputs to between 0 and 1\n",
        "import numpy as np\n",
        "x_train = np.true_divide(x_train, 255)\n",
        "x_test = np.true_divide(x_test, 255)\n",
        "x_train = x_train.reshape(x_train.shape[0], img_rows, img_cols, 1)\n",
        "x_test = x_test.reshape(x_test.shape[0], img_rows, img_cols, 1)\n",
        "print(y_test[0])\n",
        "\n",
        "# convert to vector outputs \n",
        "num_classes = 10\n",
        "y_train = to_categorical(y_train, num_classes)\n",
        "y_test = to_categorical(y_test, num_classes)\n",
        "print(\"after converting y...\", y_test[0])\n",
        "\n",
        "model = keras.models.Sequential([\n",
        "  layers.Flatten(input_shape=(28,28)),\n",
        "  layers.Dense(100, activation='sigmoid'),\n",
        "  layers.Dense(10, activation='softmax')\n",
        "])\n",
        "\n",
        "model.compile(loss='categorical_crossentropy',\n",
        "      optimizer='adam',\n",
        "      metrics=['accuracy'])\n",
        "\n",
        "model.fit(x_train, y_train,\n",
        "          batch_size=10,\n",
        "          epochs=1,\n",
        "          verbose=1,\n",
        "          validation_data=(x_test, y_test))\n",
        "score = model.evaluate(x_test, y_test, verbose=0)\n",
        "\n",
        "print('Test loss:', score[0])\n",
        "print('Test accuracy:', score[1])\n",
        "model.save(\"test_model.h5\")"
      ]
    },
    {
      "cell_type": "code",
      "execution_count": 3,
      "metadata": {
        "id": "xcK4luC5Zzmi"
      },
      "outputs": [],
      "source": [
        "def findTroublesomeImageKERAS(model, x_test):\n",
        "  worsta = 1\n",
        "  worsti = 0\n",
        "  for i in range(len(x_test)):\n",
        "    prediction = model.predict(x_test[i], verbose=False)\n",
        "    max_a = np.max(prediction)\n",
        "    if max_a < worsta:\n",
        "      worsta = max_a\n",
        "      worsti = i\n",
        "  return (worsta, worsti)"
      ]
    },
    {
      "cell_type": "code",
      "execution_count": 4,
      "metadata": {
        "colab": {
          "base_uri": "https://localhost:8080/"
        },
        "id": "pvmAOO5OWTrG",
        "outputId": "503c69c7-236d-47a6-c047-1ec1c3e03733"
      },
      "outputs": [
        {
          "output_type": "stream",
          "name": "stdout",
          "text": [
            "[0.18474388122558594, 0.945900022983551]\n",
            "1/1 [==============================] - 0s 92ms/step\n",
            "[[2.4796091e-07 9.9440092e-01 2.0768918e-04 8.8244211e-04 5.2440155e-06\n",
            "  5.2640087e-04 2.3711634e-04 2.3730932e-04 3.3657362e-03 1.3679234e-04]]\n",
            "[0. 1. 0. 0. 0. 0. 0. 0. 0. 0.]\n",
            "(0.24618913, 6598)\n"
          ]
        }
      ],
      "source": [
        "print(score)\n",
        "#print(x_test[768])\n",
        "a = model.predict(x_test[768:769])\n",
        "print(a)\n",
        "print(y_test[768])\n",
        "troublesome = findTroublesomeImageKERAS(model, x_test)\n",
        "print(troublesome)\n",
        "\n"
      ]
    },
    {
      "cell_type": "code",
      "execution_count": 5,
      "metadata": {
        "colab": {
          "base_uri": "https://localhost:8080/",
          "height": 338
        },
        "id": "f6qi6EKSfEN5",
        "outputId": "1e27b4cf-f2e7-4479-9b19-f54b25fe38cb"
      },
      "outputs": [
        {
          "output_type": "stream",
          "name": "stdout",
          "text": [
            "1/1 [==============================] - 0s 23ms/step\n",
            "[[1.0373525e-04 1.3475641e-02 1.1214327e-02 7.4050254e-01 2.0376390e-02\n",
            "  5.9205197e-02 4.1516408e-02 5.6186296e-02 5.2574921e-02 4.8445682e-03]]\n"
          ]
        },
        {
          "output_type": "execute_result",
          "data": {
            "text/plain": [
              "<matplotlib.image.AxesImage at 0x7f9fbb999d90>"
            ]
          },
          "metadata": {},
          "execution_count": 5
        },
        {
          "output_type": "display_data",
          "data": {
            "text/plain": [
              "<Figure size 432x288 with 1 Axes>"
            ],
            "image/png": "[encoded data removed]"
          },
          "metadata": {
            "needs_background": "light"
          }
        }
      ],
      "source": [
        "a = model.predict(x_test[2770])\n",
        "print(a)\n",
        "import matplotlib.pyplot as plt\n",
        "plt.figure()\n",
        "plt.imshow(np.reshape(x_test[2770], (28,28)),cmap=\"gray_r\")"
      ]
    },
    {
      "cell_type": "code",
      "execution_count": 6,
      "metadata": {
        "colab": {
          "base_uri": "https://localhost:8080/"
        },
        "id": "iuVsMZaqdqKK",
        "outputId": "3175f990-1c09-4da2-9183-1b58ae0b4cca"
      },
      "outputs": [
        {
          "output_type": "stream",
          "name": "stdout",
          "text": [
            "[0, 1, 1, 1]\n"
          ]
        }
      ],
      "source": [
        "def dec_to_binvector4(dec):\n",
        "  binstr = \"{0:04b}\".format(int(dec))\n",
        "  binvect = []\n",
        "  for b in binstr:\n",
        "    binvect.append(int(b))\n",
        "  return binvect\n",
        "\n",
        "# expects y_data to be a list of nonnegative integer numbers (e.g., 0, 1, 2, 3)\n",
        "# returns the binary representation of each y using the specified number of bits\n",
        "def to_binary(y_data):\n",
        "  return [np.array(dec_to_binvector4(y)).reshape(4, 1) for y in y_data]\n",
        "\n",
        "print(dec_to_binvector4(7))"
      ]
    },
    {
      "cell_type": "code",
      "execution_count": 7,
      "metadata": {
        "colab": {
          "base_uri": "https://localhost:8080/"
        },
        "id": "Hi76OiM6hyY2",
        "outputId": "fe1808c2-c67f-44da-d54a-2772bcf8b954"
      },
      "outputs": [
        {
          "output_type": "stream",
          "name": "stdout",
          "text": [
            "6000/6000 [==============================] - 28s 4ms/step - loss: 0.0659 - accuracy: 0.5784 - val_loss: 0.0292 - val_accuracy: 0.6729\n",
            "Test loss: 0.029162419959902763\n",
            "Test accuracy: 0.6729000210762024\n"
          ]
        }
      ],
      "source": [
        "# based on https://www.sitepoint.com/keras-digit-recognition-tutorial/\n",
        "\n",
        "import tensorflow as tf\n",
        "from tensorflow import keras\n",
        "from tensorflow.keras import layers\n",
        "import keras.datasets.mnist as kdm\n",
        "from keras.utils import to_categorical\n",
        "\n",
        "\n",
        "(x_train, y_train), (x_test, y_test) = kdm.load_data()\n",
        "\n",
        "\n",
        "# reshape\n",
        "img_rows, img_cols = 28, 28\n",
        "# normalize inputs to between 0 and 1\n",
        "import numpy as np\n",
        "x_train = np.true_divide(x_train, 255)\n",
        "x_test = np.true_divide(x_test, 255)\n",
        "x_train = x_train.reshape(x_train.shape[0], img_rows, img_cols, 1)\n",
        "x_test = x_test.reshape(x_test.shape[0], img_rows, img_cols, 1)\n",
        "\n",
        "# convert to vector outputs \n",
        "num_classes = 10\n",
        "y_train = to_binary(y_train)\n",
        "y_test = to_binary(y_test)\n",
        "\n",
        "y_train = np.array(y_train).reshape(60000, 4)\n",
        "y_test = np.array(y_test).reshape(10000, 4)\n",
        "\n",
        "model = keras.models.Sequential([\n",
        "  layers.Flatten(input_shape=(28,28)),\n",
        "  layers.Dense(100, activation='sigmoid'),\n",
        "  layers.Dense(10, activation='sigmoid'),\n",
        "  layers.Dense(4, activation='sigmoid'),\n",
        "])\n",
        "\n",
        "model.compile(loss='mean_squared_error',\n",
        "      optimizer='adam',\n",
        "      metrics=['accuracy'])\n",
        "\n",
        "model.fit(x_train, y_train,\n",
        "          batch_size=10,\n",
        "          epochs=1,\n",
        "          verbose=1,\n",
        "          validation_data=(x_test, y_test))\n",
        "score = model.evaluate(x_test, y_test, verbose=0)\n",
        "\n",
        "print('Test loss:', score[0])\n",
        "print('Test accuracy:', score[1])\n",
        "model.save(\"test_model.h5\")"
      ]
    },
    {
      "cell_type": "code",
      "source": [
        "\n",
        "net = Network([\n",
        "        FullyConnectedLayer(n_in=40*4*4, n_out=100, activation_fn=ReLU),\n",
        "        SoftmaxLayer(n_in=100, n_out=10)], mini_batch_size)\n",
        "net.SGD(expanded_training_data, 60, mini_batch_size, 0.03, \n",
        "        validation_data, test_data, lmbda=0.1)\n",
        "\n",
        "\n",
        "model = keras.models.Sequential([\n",
        "  layers.Conv2D(20, kernel_size=(5, 5)),\n",
        "    activation='relu',\n",
        "    input_shape=(28, 28, 1) \n",
        "  layers.MaxPooling2D(pool_size=(2,2)),\n",
        "  layers.Conv2D(40, kernel_size=(5,5),\n",
        "    activiation = 'relu'\n",
        "    input_shape=(20,12,12)),\n",
        "  layers.MaxPooling2D(pool_size=(2,2)),\n",
        "  layers.Flatten(input_shape = 40,4,4),\n",
        "            \n",
        "\n",
        "  layers.Dense(100, activation='sigmoid'),\n",
        "  layers.Dense(10, activation='softmax'),\n",
        "  \n",
        "])\n",
        "\n",
        "model.compile(loss='mean_squared_error',\n",
        "      optimizer='adam',\n",
        "      metrics=['accuracy'])\n",
        "\n",
        "model.fit(x_train, y_train,\n",
        "          batch_size=10,\n",
        "          epochs=60,\n",
        "          verbose=1,\n",
        "          validation_data=(x_test, y_test))\n",
        "score = model.evaluate(x_test, y_test, verbose=0)"
      ],
      "metadata": {
        "colab": {
          "base_uri": "https://localhost:8080/",
          "height": 137
        },
        "id": "QEuu-RupbuzT",
        "outputId": "c6d556f3-71bf-4571-dca2-5e22ca5ca7f9"
      },
      "execution_count": 16,
      "outputs": [
        {
          "output_type": "error",
          "ename": "SyntaxError",
          "evalue": "ignored",
          "traceback": [
            "\u001b[0;36m  File \u001b[0;32m\"<ipython-input-16-cdfacfc5840d>\"\u001b[0;36m, line \u001b[0;32m10\u001b[0m\n\u001b[0;31m    activation='relu',\u001b[0m\n\u001b[0m              ^\u001b[0m\n\u001b[0;31mSyntaxError\u001b[0m\u001b[0;31m:\u001b[0m invalid syntax\n"
          ]
        }
      ]
    }
  ],
  "metadata": {
    "colab": {
      "provenance": [],
      "include_colab_link": true
    },
    "kernelspec": {
      "display_name": "Python 3 (ipykernel)",
      "language": "python",
      "name": "python3"
    },
    "language_info": {
      "codemirror_mode": {
        "name": "ipython",
        "version": 3
      },
      "file_extension": ".py",
      "mimetype": "text/x-python",
      "name": "python",
      "nbconvert_exporter": "python",
      "pygments_lexer": "ipython3",
      "version": "3.9.15"
    }
  },
  "nbformat": 4,
  "nbformat_minor": 0
}